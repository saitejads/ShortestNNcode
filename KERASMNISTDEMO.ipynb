{
 "cells": [
  {
   "cell_type": "markdown",
   "metadata": {},
   "source": [
    "# SHORTEST NEURAL NETWORK CODE. (FOR BEGINNERS)"
   ]
  },
  {
   "cell_type": "markdown",
   "metadata": {},
   "source": [
    "All you need is one library 'tensorflow'. Ofcourse we are using Keras(Highlevel API). It is now officially included in tesorflow"
   ]
  },
  {
   "cell_type": "code",
   "execution_count": 77,
   "metadata": {},
   "outputs": [],
   "source": [
    "import tensorflow as tf"
   ]
  },
  {
   "cell_type": "markdown",
   "metadata": {},
   "source": [
    "Load the MNIST dataset. The data has train and test splits with the features and labels separated."
   ]
  },
  {
   "cell_type": "code",
   "execution_count": 78,
   "metadata": {},
   "outputs": [],
   "source": [
    "(tr_x,tr_y),(ts_x,ts_y) = tf.keras.datasets.mnist.load_data()"
   ]
  },
  {
   "cell_type": "code",
   "execution_count": 79,
   "metadata": {},
   "outputs": [
    {
     "name": "stdout",
     "output_type": "stream",
     "text": [
      "(60000, 28, 28) (60000,) (10000, 28, 28) (10000,)\n"
     ]
    }
   ],
   "source": [
    "print(tr_x.shape , tr_y.shape , ts_x.shape, ts_y.shape)"
   ]
  },
  {
   "cell_type": "markdown",
   "metadata": {},
   "source": [
    "Examine the first image in train set."
   ]
  },
  {
   "cell_type": "markdown",
   "metadata": {},
   "source": [
    "The input values are in range O-255(0 being pure white, 255 dark black). \n",
    "So scale them to 0-1 for faster calculation. (Advised, not mandatory).\n",
    "\n",
    "Execute Print(tr_x[0]) to know about this."
   ]
  },
  {
   "cell_type": "code",
   "execution_count": 80,
   "metadata": {},
   "outputs": [],
   "source": [
    "tr_x = tr_x/255\n",
    "ts_x = ts_x/255"
   ]
  },
  {
   "cell_type": "markdown",
   "metadata": {},
   "source": [
    "Since, NN's need data to be flattened. Reshape the data."
   ]
  },
  {
   "cell_type": "code",
   "execution_count": 81,
   "metadata": {},
   "outputs": [],
   "source": [
    "import numpy as np\n",
    "flat_tr_x = np.reshape(tr_x,[60000,784])\n",
    "flat_ts_x = np.reshape(ts_x,[10000,784])"
   ]
  },
  {
   "cell_type": "code",
   "execution_count": 82,
   "metadata": {},
   "outputs": [
    {
     "name": "stdout",
     "output_type": "stream",
     "text": [
      "(60000, 784) (10000, 784)\n"
     ]
    }
   ],
   "source": [
    "print(flat_tr_x.shape, flat_ts_x.shape)"
   ]
  },
  {
   "cell_type": "markdown",
   "metadata": {},
   "source": [
    "NEURAL NETWORK PART: (A feed forward NN)"
   ]
  },
  {
   "cell_type": "code",
   "execution_count": 83,
   "metadata": {},
   "outputs": [],
   "source": [
    "model = tf.keras.models.Sequential()\n",
    "model.add(tf.keras.layers.Dense(140,activation = 'relu'))\n",
    "model.add(tf.keras.layers.Dense(220,activation = 'relu'))\n",
    "model.add(tf.keras.layers.Dense(10,activation = 'softmax'))"
   ]
  },
  {
   "cell_type": "markdown",
   "metadata": {},
   "source": [
    "Select your loss function and the type of optimizer to minimize it.(check keras website various losses and optimizers)"
   ]
  },
  {
   "cell_type": "code",
   "execution_count": 84,
   "metadata": {},
   "outputs": [],
   "source": [
    "model.compile(optimizer = 'Adagrad',loss = 'sparse_categorical_crossentropy', metrics =['accuracy'])"
   ]
  },
  {
   "cell_type": "markdown",
   "metadata": {},
   "source": [
    "Fit the flattened data."
   ]
  },
  {
   "cell_type": "code",
   "execution_count": 85,
   "metadata": {},
   "outputs": [
    {
     "name": "stdout",
     "output_type": "stream",
     "text": [
      "Epoch 1/5\n",
      "60000/60000 [==============================] - 10s 171us/step - loss: 0.2033 - acc: 0.9394\n",
      "Epoch 2/5\n",
      "60000/60000 [==============================] - 10s 159us/step - loss: 0.1015 - acc: 0.9698\n",
      "Epoch 3/5\n",
      "60000/60000 [==============================] - 9s 156us/step - loss: 0.0768 - acc: 0.9772\n",
      "Epoch 4/5\n",
      "60000/60000 [==============================] - 10s 159us/step - loss: 0.0625 - acc: 0.9818\n",
      "Epoch 5/5\n",
      "60000/60000 [==============================] - 10s 166us/step - loss: 0.0529 - acc: 0.9846\n"
     ]
    },
    {
     "data": {
      "text/plain": [
       "<tensorflow.python.keras._impl.keras.callbacks.History at 0x14d1b817668>"
      ]
     },
     "execution_count": 85,
     "metadata": {},
     "output_type": "execute_result"
    }
   ],
   "source": [
    "model.fit(flat_tr_x,tr_y,epochs = 5,verbose = 1)"
   ]
  },
  {
   "cell_type": "markdown",
   "metadata": {},
   "source": [
    "You could see, loss is decreasing gradually and the accuracy is increasing."
   ]
  },
  {
   "cell_type": "code",
   "execution_count": 86,
   "metadata": {},
   "outputs": [
    {
     "name": "stdout",
     "output_type": "stream",
     "text": [
      "10000/10000 [==============================] - 1s 96us/step\n",
      "[0.07530616769352928, 0.9748]\n"
     ]
    }
   ],
   "source": [
    "print(model.evaluate(flat_ts_x,ts_y))"
   ]
  },
  {
   "cell_type": "markdown",
   "metadata": {},
   "source": [
    "The Testing accuracy is found to be 0.9748. Dont be happy, it is pretty common with MNIST data.\n",
    "CNN can achieve about 99% accuracy. \n",
    "Check my code on CNN."
   ]
  },
  {
   "cell_type": "markdown",
   "metadata": {},
   "source": [
    "The tensorflow tutorial of the same process is also available in my github check it."
   ]
  },
  {
   "cell_type": "markdown",
   "metadata": {},
   "source": [
    "Inspired from Sentdex."
   ]
  },
  {
   "cell_type": "markdown",
   "metadata": {},
   "source": [
    "# This is shortest NN code (Quite basic code) for beginners.\n"
   ]
  }
 ],
 "metadata": {
  "kernelspec": {
   "display_name": "Python 3",
   "language": "python",
   "name": "python3"
  },
  "language_info": {
   "codemirror_mode": {
    "name": "ipython",
    "version": 3
   },
   "file_extension": ".py",
   "mimetype": "text/x-python",
   "name": "python",
   "nbconvert_exporter": "python",
   "pygments_lexer": "ipython3",
   "version": "3.6.4"
  }
 },
 "nbformat": 4,
 "nbformat_minor": 2
}
