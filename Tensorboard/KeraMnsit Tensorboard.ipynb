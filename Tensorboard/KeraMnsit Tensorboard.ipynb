{
 "cells": [
  {
   "cell_type": "markdown",
   "metadata": {},
   "source": [
    "# SHORTEST NEURAL NETWORK CODE. (FOR BEGINNERS)\n",
    "# ADDED TENSORBOARD VISUALIZATION."
   ]
  },
  {
   "cell_type": "markdown",
   "metadata": {},
   "source": [
    "All you need is one library 'tensorflow'. Ofcourse we are using Keras(Highlevel API). It is now officially included in tesorflow"
   ]
  },
  {
   "cell_type": "code",
   "execution_count": 1,
   "metadata": {},
   "outputs": [
    {
     "name": "stderr",
     "output_type": "stream",
     "text": [
      "C:\\Users\\HP.DESKTOP-UCJPQBV\\Anaconda3\\lib\\site-packages\\h5py\\__init__.py:36: FutureWarning: Conversion of the second argument of issubdtype from `float` to `np.floating` is deprecated. In future, it will be treated as `np.float64 == np.dtype(float).type`.\n",
      "  from ._conv import register_converters as _register_converters\n"
     ]
    }
   ],
   "source": [
    "import tensorflow as tf"
   ]
  },
  {
   "cell_type": "markdown",
   "metadata": {},
   "source": [
    "Load the MNIST dataset. The data has train and test splits with the features and labels separated."
   ]
  },
  {
   "cell_type": "code",
   "execution_count": 2,
   "metadata": {},
   "outputs": [],
   "source": [
    "(tr_x,tr_y),(ts_x,ts_y) = tf.keras.datasets.mnist.load_data()"
   ]
  },
  {
   "cell_type": "code",
   "execution_count": 3,
   "metadata": {},
   "outputs": [
    {
     "name": "stdout",
     "output_type": "stream",
     "text": [
      "(60000, 28, 28) (60000,) (10000, 28, 28) (10000,)\n"
     ]
    }
   ],
   "source": [
    "print(tr_x.shape , tr_y.shape , ts_x.shape, ts_y.shape)"
   ]
  },
  {
   "cell_type": "markdown",
   "metadata": {},
   "source": [
    "Examine the first image in train set."
   ]
  },
  {
   "cell_type": "markdown",
   "metadata": {},
   "source": [
    "The input values are in range O-255(0 being pure white, 255 dark black). \n",
    "So scale them to 0-1 for faster calculation. (Advised, not mandatory).\n",
    "\n",
    "Execute Print(tr_x[0]) to know about this."
   ]
  },
  {
   "cell_type": "code",
   "execution_count": 4,
   "metadata": {},
   "outputs": [],
   "source": [
    "tr_x = tr_x/255\n",
    "ts_x = ts_x/255"
   ]
  },
  {
   "cell_type": "markdown",
   "metadata": {},
   "source": [
    "Since, NN's need data to be flattened. Reshape the data."
   ]
  },
  {
   "cell_type": "code",
   "execution_count": 5,
   "metadata": {},
   "outputs": [],
   "source": [
    "import numpy as np\n",
    "flat_tr_x = np.reshape(tr_x,[60000,784])\n",
    "flat_ts_x = np.reshape(ts_x,[10000,784])"
   ]
  },
  {
   "cell_type": "code",
   "execution_count": 6,
   "metadata": {},
   "outputs": [
    {
     "name": "stdout",
     "output_type": "stream",
     "text": [
      "(60000, 784) (10000, 784)\n"
     ]
    }
   ],
   "source": [
    "print(flat_tr_x.shape, flat_ts_x.shape)"
   ]
  },
  {
   "cell_type": "markdown",
   "metadata": {},
   "source": [
    "# TENSORBOARD\n",
    "tb\\demo is the file it is going to create in your default directory."
   ]
  },
  {
   "cell_type": "code",
   "execution_count": 7,
   "metadata": {},
   "outputs": [],
   "source": [
    "tb = tf.keras.callbacks.TensorBoard(log_dir = 'tb\\sample')"
   ]
  },
  {
   "cell_type": "markdown",
   "metadata": {},
   "source": [
    "NEURAL NETWORK PART: (A feed forward NN)"
   ]
  },
  {
   "cell_type": "code",
   "execution_count": 8,
   "metadata": {},
   "outputs": [],
   "source": [
    "model = tf.keras.models.Sequential()\n",
    "model.add(tf.keras.layers.Dense(140,activation = 'relu'))\n",
    "model.add(tf.keras.layers.Dense(220,activation = 'relu'))\n",
    "model.add(tf.keras.layers.Dense(10,activation = 'softmax'))"
   ]
  },
  {
   "cell_type": "markdown",
   "metadata": {},
   "source": [
    "Select your loss function and the type of optimizer to minimize it.(check keras website various losses and optimizers)"
   ]
  },
  {
   "cell_type": "code",
   "execution_count": 9,
   "metadata": {},
   "outputs": [],
   "source": [
    "model.compile(optimizer = 'Adagrad',loss = 'sparse_categorical_crossentropy', metrics =['accuracy'])"
   ]
  },
  {
   "cell_type": "markdown",
   "metadata": {},
   "source": [
    "Fit the flattened data."
   ]
  },
  {
   "cell_type": "markdown",
   "metadata": {},
   "source": [
    " - Set callbacks to tensorboard object tb we created."
   ]
  },
  {
   "cell_type": "code",
   "execution_count": 10,
   "metadata": {},
   "outputs": [
    {
     "name": "stdout",
     "output_type": "stream",
     "text": [
      "Epoch 1/5\n",
      "60000/60000 [==============================] - 5s 85us/step - loss: 0.2054 - acc: 0.9386\n",
      "Epoch 2/5\n",
      "60000/60000 [==============================] - 5s 81us/step - loss: 0.1010 - acc: 0.9702\n",
      "Epoch 3/5\n",
      "60000/60000 [==============================] - 5s 79us/step - loss: 0.0764 - acc: 0.9775\n",
      "Epoch 4/5\n",
      "60000/60000 [==============================] - 5s 76us/step - loss: 0.0620 - acc: 0.9822\n",
      "Epoch 5/5\n",
      "60000/60000 [==============================] - 4s 73us/step - loss: 0.0526 - acc: 0.9850\n"
     ]
    },
    {
     "data": {
      "text/plain": [
       "<tensorflow.python.keras._impl.keras.callbacks.History at 0x1ffce7154e0>"
      ]
     },
     "execution_count": 10,
     "metadata": {},
     "output_type": "execute_result"
    }
   ],
   "source": [
    "model.fit(flat_tr_x,tr_y,epochs = 5,verbose = 1,callbacks=[tb])"
   ]
  },
  {
   "cell_type": "markdown",
   "metadata": {},
   "source": [
    "You could see, loss is decreasing gradually and the accuracy is increasing."
   ]
  },
  {
   "cell_type": "markdown",
   "metadata": {},
   "source": [
    "# To view\n",
    "- Open cmd, go the directory where the tb is created.\n",
    "- Type 'tensorboard --logdir = tb\\demo\n",
    "- It will show you the address to go for tensorboard, copy that and paste in ur browser."
   ]
  },
  {
   "cell_type": "code",
   "execution_count": 11,
   "metadata": {},
   "outputs": [
    {
     "name": "stdout",
     "output_type": "stream",
     "text": [
      "10000/10000 [==============================] - 0s 35us/step\n",
      "[0.07388780585532077, 0.9757]\n"
     ]
    }
   ],
   "source": [
    "print(model.evaluate(flat_ts_x,ts_y))"
   ]
  },
  {
   "cell_type": "markdown",
   "metadata": {},
   "source": [
    "The Testing accuracy is found to be 0.97. Dont be happy, it is pretty common with MNIST data.\n",
    "CNN can achieve about 99% accuracy. \n",
    "Check my code on CNN."
   ]
  },
  {
   "cell_type": "markdown",
   "metadata": {},
   "source": [
    "The tensorflow tutorial of the same process is also available in my github check it."
   ]
  },
  {
   "cell_type": "markdown",
   "metadata": {},
   "source": [
    "Inspired from Sentdex."
   ]
  },
  {
   "cell_type": "markdown",
   "metadata": {},
   "source": [
    "# This is shortest NN code (Quite basic code) for beginners.\n"
   ]
  }
 ],
 "metadata": {
  "kernelspec": {
   "display_name": "Python 3",
   "language": "python",
   "name": "python3"
  },
  "language_info": {
   "codemirror_mode": {
    "name": "ipython",
    "version": 3
   },
   "file_extension": ".py",
   "mimetype": "text/x-python",
   "name": "python",
   "nbconvert_exporter": "python",
   "pygments_lexer": "ipython3",
   "version": "3.6.4"
  }
 },
 "nbformat": 4,
 "nbformat_minor": 2
}
